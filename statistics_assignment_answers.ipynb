{
 "cells": [
  {
   "cell_type": "markdown",
   "id": "fbbf2687",
   "metadata": {},
   "source": [
    "### Question 1\n",
    "Difference between descriptive and inferential statistics:"
   ]
  },
  {
   "cell_type": "code",
   "execution_count": null,
   "id": "07451d78",
   "metadata": {},
   "outputs": [],
   "source": [
    "# Descriptive vs Inferential Statistics\n",
    "descriptive = \"Summarizes and presents data. Example: Average marks of a class = 72.\"\n",
    "inferential = \"Draws conclusions about a population from a sample. Example: Surveying 100 people to predict election results for a city.\"\n",
    "descriptive, inferential"
   ]
  },
  {
   "cell_type": "markdown",
   "id": "f4f8371a",
   "metadata": {},
   "source": [
    "### Question 2\n",
    "Sampling in statistics:"
   ]
  },
  {
   "cell_type": "code",
   "execution_count": null,
   "id": "389df3fb",
   "metadata": {},
   "outputs": [],
   "source": [
    "# Random and Stratified Sampling\n",
    "random_sampling = \"Every member has an equal chance of selection. Example: picking 50 students randomly from 1000.\"\n",
    "stratified_sampling = \"Population divided into groups (strata) and samples taken from each. Example: dividing students by grade level and picking samples proportionally.\"\n",
    "random_sampling, stratified_sampling"
   ]
  },
  {
   "cell_type": "markdown",
   "id": "ca7efca3",
   "metadata": {},
   "source": [
    "### Question 3\n",
    "Mean, Median, Mode:"
   ]
  },
  {
   "cell_type": "code",
   "execution_count": null,
   "id": "309fa1ab",
   "metadata": {},
   "outputs": [],
   "source": [
    "numbers = [12, 15, 12, 18, 19, 12, 20, 22, 19, 19, 24, 24, 24, 26, 28]\n",
    "mean_val = stats.mean(numbers)\n",
    "median_val = stats.median(numbers)\n",
    "mode_val = stats.mode(numbers)\n",
    "mean_val, median_val, mode_val"
   ]
  },
  {
   "cell_type": "markdown",
   "id": "f3009568",
   "metadata": {},
   "source": [
    "### Question 4\n",
    "Skewness and Kurtosis explanation."
   ]
  },
  {
   "cell_type": "code",
   "execution_count": null,
   "id": "39fe9b3f",
   "metadata": {},
   "outputs": [],
   "source": [
    "skewness = \"Skewness measures asymmetry of distribution. Positive skew → tail on right.\"\n",
    "kurtosis = \"Kurtosis measures peakedness. High kurtosis → heavy tails. Low kurtosis → flat.\"\n",
    "skewness, kurtosis"
   ]
  },
  {
   "cell_type": "markdown",
   "id": "65aae2a9",
   "metadata": {},
   "source": [
    "### Question 5\n",
    "Python program to compute mean, median, mode:"
   ]
  },
  {
   "cell_type": "code",
   "execution_count": null,
   "id": "844dc296",
   "metadata": {},
   "outputs": [],
   "source": [
    "print(\"Mean:\", stats.mean(numbers))\n",
    "print(\"Median:\", stats.median(numbers))\n",
    "print(\"Mode:\", stats.mode(numbers))"
   ]
  },
  {
   "cell_type": "markdown",
   "id": "925dfe60",
   "metadata": {},
   "source": [
    "### Question 6\n",
    "Covariance & Correlation:"
   ]
  },
  {
   "cell_type": "code",
   "execution_count": null,
   "id": "fc3085ef",
   "metadata": {},
   "outputs": [],
   "source": [
    "list_x = [10, 20, 30, 40, 50]\n",
    "list_y = [15, 25, 35, 45, 60]\n",
    "\n",
    "cov_matrix = np.cov(list_x, list_y, bias=True)\n",
    "covariance = cov_matrix[0][1]\n",
    "correlation = np.corrcoef(list_x, list_y)[0][1]\n",
    "covariance, correlation"
   ]
  },
  {
   "cell_type": "markdown",
   "id": "8258b064",
   "metadata": {},
   "source": [
    "### Question 7\n",
    "Boxplot and outliers:"
   ]
  },
  {
   "cell_type": "code",
   "execution_count": null,
   "id": "88146178",
   "metadata": {},
   "outputs": [],
   "source": [
    "data = [12, 14, 14, 15, 18, 19, 19, 21, 22, 22, 23, 23, 24, 26, 29, 35]\n",
    "plt.boxplot(data)\n",
    "plt.title(\"Boxplot Example\")\n",
    "plt.show()"
   ]
  },
  {
   "cell_type": "markdown",
   "id": "04203f46",
   "metadata": {},
   "source": [
    "### Question 8\n",
    "Advertising spend vs sales correlation:"
   ]
  },
  {
   "cell_type": "code",
   "execution_count": null,
   "id": "7467364a",
   "metadata": {},
   "outputs": [],
   "source": [
    "advertising_spend = [200, 250, 300, 400, 500]\n",
    "daily_sales = [2200, 2450, 2750, 3200, 4000]\n",
    "corr = np.corrcoef(advertising_spend, daily_sales)[0][1]\n",
    "corr"
   ]
  },
  {
   "cell_type": "markdown",
   "id": "3005f298",
   "metadata": {},
   "source": [
    "### Question 9\n",
    "Customer survey distribution:"
   ]
  },
  {
   "cell_type": "code",
   "execution_count": null,
   "id": "bebf52d4",
   "metadata": {},
   "outputs": [],
   "source": [
    "survey_scores = [7, 8, 5, 9, 6, 7, 8, 9, 10, 4, 7, 6, 9, 8, 7]\n",
    "plt.hist(survey_scores, bins=6, edgecolor='black')\n",
    "plt.title(\"Survey Scores Distribution\")\n",
    "plt.xlabel(\"Scores\")\n",
    "plt.ylabel(\"Frequency\")\n",
    "plt.show()"
   ]
  }
 ],
 "metadata": {},
 "nbformat": 4,
 "nbformat_minor": 5
}